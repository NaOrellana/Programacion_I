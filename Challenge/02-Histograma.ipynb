{
 "cells": [
  {
   "cell_type": "markdown",
   "metadata": {},
   "source": [
    "### Desafío 2: Generador de Histograma\n",
    "Crear un programa que tome una lista de números y genere un histograma basado en esos números, usando asterisco para crear las barras del histograma."
   ]
  },
  {
   "cell_type": "code",
   "execution_count": 46,
   "metadata": {},
   "outputs": [
    {
     "name": "stdout",
     "output_type": "stream",
     "text": [
      "**\n",
      "****\n",
      "******\n",
      "****\n",
      "**\n"
     ]
    }
   ],
   "source": [
    "# Se introduce el set de datos\n",
    "datos = [2, 4, 6, 4, 2]\n",
    "\n",
    "# El primer bucle es para los datos introducidos, el segundo para imprimir los valores númericos del set de datos como *\n",
    "for i in range(len(datos)):\n",
    "    for j in range(datos[i]):\n",
    "        print(\"*\", end=\"\")\n",
    "    print(\"\")"
   ]
  }
 ],
 "metadata": {
  "kernelspec": {
   "display_name": "progra_1",
   "language": "python",
   "name": "python3"
  },
  "language_info": {
   "codemirror_mode": {
    "name": "ipython",
    "version": 3
   },
   "file_extension": ".py",
   "mimetype": "text/x-python",
   "name": "python",
   "nbconvert_exporter": "python",
   "pygments_lexer": "ipython3",
   "version": "3.8.17"
  },
  "orig_nbformat": 4
 },
 "nbformat": 4,
 "nbformat_minor": 2
}
