{
 "cells": [
  {
   "cell_type": "markdown",
   "metadata": {},
   "source": [
    "### Desafío 4: Implementación de Funciones map, filter, y reduce Propias\n",
    "Crea tus propias versiones de las funciones map, filter y reduce. Estas funciones deben tomar como argumentos una función y una lista (y un valor inicial en el caso de reduce) y deben retornar un iterable (puedes retornar una lista)."
   ]
  },
  {
   "cell_type": "code",
   "execution_count": 34,
   "metadata": {},
   "outputs": [
    {
     "name": "stdout",
     "output_type": "stream",
     "text": [
      "[5, 7, 2, 7]\n"
     ]
    }
   ],
   "source": [
    "#Primero colocamos un ejemplo de la función map() como ejemplo, la cual ejecuta un función en específico para cada item en un iterable, el item es un parametro de la función\n",
    "#Para este ejemplo se creó la función cuenta, la cual contará el número de caracteres dentro de una palabra\n",
    "def cuenta(palabra):\n",
    "    return len(palabra)\n",
    "\n",
    "#Se introducen los datos de la lista de palabras que contara\n",
    "lista = [\"perro\", \"manzana\", \"té\", \"escuela\"]\n",
    "conteo = map(cuenta, lista) #Uso de la función map()\n",
    "print(list(conteo)) #Se imprime el resultado en formato de lista"
   ]
  },
  {
   "cell_type": "code",
   "execution_count": 35,
   "metadata": {},
   "outputs": [
    {
     "name": "stdout",
     "output_type": "stream",
     "text": [
      "5, 7, 2, 7, "
     ]
    }
   ],
   "source": [
    "#Ahora simularemos la función map() con la misma función y lista que mencionamos anteriormente\n",
    "def cuenta(palabra):\n",
    "    return len(palabra)\n",
    "\n",
    "lista = [\"perro\", \"manzana\", \"té\", \"escuela\"]\n",
    "\n",
    "#Recreamos el iterable de map() con un bucle for, el cual se ejecutará dependiendo de la cantidad de palabras que existan en la lista\n",
    "for i in range(len(lista)):\n",
    "    print(cuenta(lista[i]), end= \", \") #Se indica que imprima el resultado de cada iteración"
   ]
  }
 ],
 "metadata": {
  "kernelspec": {
   "display_name": "progra_1",
   "language": "python",
   "name": "python3"
  },
  "language_info": {
   "codemirror_mode": {
    "name": "ipython",
    "version": 3
   },
   "file_extension": ".py",
   "mimetype": "text/x-python",
   "name": "python",
   "nbconvert_exporter": "python",
   "pygments_lexer": "ipython3",
   "version": "3.8.17"
  }
 },
 "nbformat": 4,
 "nbformat_minor": 2
}
