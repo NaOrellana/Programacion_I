{
 "cells": [
  {
   "cell_type": "markdown",
   "metadata": {},
   "source": [
    "### Desafío 4: Implementación de Funciones map, filter, y reduce Propias\n",
    "Crea tus propias versiones de las funciones map, filter y reduce. Estas funciones deben tomar como argumentos una función y una lista (y un valor inicial en el caso de reduce) y deben retornar un iterable (puedes retornar una lista)."
   ]
  },
  {
   "cell_type": "markdown",
   "metadata": {},
   "source": [
    "**Ejercicio Función Map**"
   ]
  },
  {
   "cell_type": "code",
   "execution_count": 34,
   "metadata": {},
   "outputs": [
    {
     "name": "stdout",
     "output_type": "stream",
     "text": [
      "[5, 7, 2, 7]\n"
     ]
    }
   ],
   "source": [
    "#Primero colocamos un ejemplo de la función map() como ejemplo, la cual ejecuta un función en específico para cada item en un iterable, el item es un parametro de la función\n",
    "#Para este ejemplo se creó la función cuenta, la cual contará el número de caracteres dentro de una palabra\n",
    "def cuenta(palabra):\n",
    "    return len(palabra)\n",
    "\n",
    "#Se introducen los datos de la lista de palabras que contara\n",
    "lista = [\"perro\", \"manzana\", \"té\", \"escuela\"]\n",
    "conteo = map(cuenta, lista) #Uso de la función map()\n",
    "print(list(conteo)) #Se imprime el resultado en formato de lista"
   ]
  },
  {
   "cell_type": "code",
   "execution_count": 35,
   "metadata": {},
   "outputs": [
    {
     "name": "stdout",
     "output_type": "stream",
     "text": [
      "5, 7, 2, 7, "
     ]
    }
   ],
   "source": [
    "#Ahora simularemos la función map() con la misma función y lista que mencionamos anteriormente\n",
    "def cuenta(palabra):\n",
    "    return len(palabra)\n",
    "\n",
    "lista = [\"perro\", \"manzana\", \"té\", \"escuela\"]\n",
    "\n",
    "#Recreamos el iterable de map() con un bucle for, el cual se ejecutará dependiendo de la cantidad de palabras que existan en la lista\n",
    "for i in range(len(lista)):\n",
    "    print(cuenta(lista[i]), end= \", \") #Se indica que imprima el resultado de cada iteración"
   ]
  },
  {
   "cell_type": "markdown",
   "metadata": {},
   "source": [
    "**Ejercicio Función Filter**"
   ]
  },
  {
   "cell_type": "code",
   "execution_count": 39,
   "metadata": {},
   "outputs": [
    {
     "name": "stdout",
     "output_type": "stream",
     "text": [
      "21, 32, 19, 18, "
     ]
    }
   ],
   "source": [
    "#La función filter() es un iterable en el cual los items son filtrados a través de una función previamente establecida para comprobar si dicho item es aceptado o no\n",
    "#Crearemos un filtro en el cual solo se acepten a personas cuya edad sea mayor o igual 18\n",
    "\n",
    "edad = [21, 6, 32, 11, 19, 18, 7] #Lista de edades\n",
    "\n",
    "#Definimos la función a ejecutar\n",
    "def adulto(x):\n",
    "    if x < 18:\n",
    "        return False\n",
    "    else:\n",
    "        return True\n",
    "\n",
    "mayor_edad = filter(adulto, edad) #Uso de la función filter()\n",
    "\n",
    "for x in mayor_edad:\n",
    "    print(x, end= \", \") #Se imprime el resultado"
   ]
  },
  {
   "cell_type": "code",
   "execution_count": 56,
   "metadata": {},
   "outputs": [
    {
     "name": "stdout",
     "output_type": "stream",
     "text": [
      "21, 32, 19, 18, "
     ]
    }
   ],
   "source": [
    "#Ahora simularemos la función map() con la misma función y lista que mencionamos anteriormente\n",
    "edad = [21, 6, 32, 11, 19, 18, 7]\n",
    "\n",
    "def adulto(x):\n",
    "    if x < 18:\n",
    "        return False\n",
    "    else:\n",
    "        return True\n",
    "\n",
    "#Recreamos la función filter() con un bucle for\n",
    "for i in range(len(edad)):\n",
    "    valor = adulto(edad[i])\n",
    "    if valor == True: #Indicamos que imprima los valores que pasan la condicional de ser mayor de edad\n",
    "        print(edad[i], end= \", \")"
   ]
  }
 ],
 "metadata": {
  "kernelspec": {
   "display_name": "progra_1",
   "language": "python",
   "name": "python3"
  },
  "language_info": {
   "codemirror_mode": {
    "name": "ipython",
    "version": 3
   },
   "file_extension": ".py",
   "mimetype": "text/x-python",
   "name": "python",
   "nbconvert_exporter": "python",
   "pygments_lexer": "ipython3",
   "version": "3.8.17"
  }
 },
 "nbformat": 4,
 "nbformat_minor": 2
}
