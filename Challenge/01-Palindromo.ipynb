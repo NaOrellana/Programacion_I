{
 "cells": [
  {
   "cell_type": "markdown",
   "metadata": {},
   "source": [
    "# Challenge 1"
   ]
  },
  {
   "cell_type": "markdown",
   "metadata": {},
   "source": [
    "### Desafío 1: Palíndromos\n",
    "Un palíndromo es una palabra o frase que se lee igual de adelante hacia atrás que de atrás hacia adelante, ignorando los espacios, puntuación y capitalización. El desafío es crear un programa que tome una cadena ingresada por el usuario y determine si es un palíndromo.\n"
   ]
  },
  {
   "cell_type": "code",
   "execution_count": 27,
   "metadata": {},
   "outputs": [
    {
     "name": "stdout",
     "output_type": "stream",
     "text": [
      "Es un palíndromo\n"
     ]
    }
   ],
   "source": [
    "# Pedimos la palabra o frase a evaluar\n",
    "frase = input(\"Escribe una palabra: \")\n",
    "\n",
    "# Se declara la función palíndromo con el argumento que se pidió. También se pide colocar todo en minúsculas, reemplazar los espacios y solo revisar los caracteres alpha. \n",
    "# Después obtenemos la frase invertida con el parámetro step de rango.\n",
    "def palindromo(frase):\n",
    "    frase = frase.lower().replace(\" \",\"\")\n",
    "    frase = [c.casefold() for c in frase if c.isalpha()]\n",
    "    return frase == frase[::-1]\n",
    "\n",
    "# Lo anterior nos arroja resultados de verdadero o falso. Usando la función if indicamos que muestre sí es o no un palíndromo tomando en cuenta lo anterior.\n",
    "if palindromo(frase) == True:\n",
    "    print(\"Es un palíndromo\")\n",
    "else:\n",
    "    print(\"No es un palíndromo\")"
   ]
  }
 ],
 "metadata": {
  "kernelspec": {
   "display_name": "progra_1",
   "language": "python",
   "name": "python3"
  },
  "language_info": {
   "codemirror_mode": {
    "name": "ipython",
    "version": 3
   },
   "file_extension": ".py",
   "mimetype": "text/x-python",
   "name": "python",
   "nbconvert_exporter": "python",
   "pygments_lexer": "ipython3",
   "version": "3.8.17"
  },
  "orig_nbformat": 4
 },
 "nbformat": 4,
 "nbformat_minor": 2
}
