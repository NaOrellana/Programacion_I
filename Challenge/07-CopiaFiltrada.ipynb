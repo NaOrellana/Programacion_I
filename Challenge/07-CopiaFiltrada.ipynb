{
 "cells": [
  {
   "cell_type": "markdown",
   "metadata": {},
   "source": [
    "### Desafío 7: Copia de archivos con filtrado\n",
    "Crea un script que copie un archivo a otro, pero que excluya todas las líneas que contengan una palabra prohibida especificada por el usuario."
   ]
  },
  {
   "cell_type": "code",
   "execution_count": 9,
   "metadata": {},
   "outputs": [],
   "source": [
    "import string #Instalamos la librería string con operaciones comunes de cadena de caracteres\n",
    "\n",
    "#Abrimos el archivo que filtraremos\n",
    "with open(\"FiltradoMuestra.txt\", \"r\") as input: \n",
    "    for line in input:  #Usaremos un bucle para cada línea\n",
    "        censorship = [] #Aquí se guardará el nuevo texto\n",
    "        words = line.split() #Dividimos las líneas en palabras\n",
    "        for word in words: #Bucle para cada palabra\n",
    "            if word == \"no\": #La palabra \"no\" no existe en mi vocabulario, así que la censuraremos y la reemplazaremos por **\n",
    "                censorship.append(\"**\")\n",
    "            else:\n",
    "                censorship.append(word)\n",
    "        outputline = \" \".join(censorship) #Unimos de nuevo el texto y dejamos una separación entre palabras\n",
    "\n",
    "#Creamos un archivo nuevo para el texto depurado\n",
    "with open(\"FiltradoFinal.txt\", \"w\") as f:\n",
    "    print(outputline, file=f) \n",
    "\n"
   ]
  }
 ],
 "metadata": {
  "kernelspec": {
   "display_name": "progra_1",
   "language": "python",
   "name": "python3"
  },
  "language_info": {
   "codemirror_mode": {
    "name": "ipython",
    "version": 3
   },
   "file_extension": ".py",
   "mimetype": "text/x-python",
   "name": "python",
   "nbconvert_exporter": "python",
   "pygments_lexer": "ipython3",
   "version": "3.8.17"
  }
 },
 "nbformat": 4,
 "nbformat_minor": 2
}
