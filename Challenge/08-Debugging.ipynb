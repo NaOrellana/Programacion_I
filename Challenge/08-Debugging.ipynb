{
 "cells": [
  {
   "cell_type": "markdown",
   "metadata": {},
   "source": [
    "### Desafío 8: Debugging de un Script de Ordenación\n",
    "Se te ha dado un script que supuestamente ordena una lista de números en orden ascendente, pero algo está mal y no funciona como debería. Tu tarea es depurar el script y hacer que funcione correctamente."
   ]
  },
  {
   "cell_type": "code",
   "execution_count": 2,
   "metadata": {},
   "outputs": [
    {
     "name": "stdout",
     "output_type": "stream",
     "text": [
      "Sorted list (with error): [1, 1, 1, 1, 2, 2, 2, 3, 3, 3, 5]\n"
     ]
    }
   ],
   "source": [
    "def sort_list_bad(numbers):\n",
    "    for i in range(len(numbers)):\n",
    "        for j in range(i + 1, len(numbers)):\n",
    "            if numbers[i] > numbers[j]:\n",
    "                # Aquí hay un error en la lógica de intercambio\n",
    "                temp = numbers[i]\n",
    "                numbers[i] = numbers[j]  # Este debería ser numbers[j] = temp\n",
    "    return numbers\n",
    "\n",
    "# Lista de prueba\n",
    "test_list = [3, 1, 4, 1, 5, 9, 2, 6, 5, 3, 5]\n",
    "# Intenta ordenar la lista\n",
    "sorted_list = sort_list_bad(test_list)\n",
    "print(\"Sorted list (with error):\", sorted_list)\n"
   ]
  },
  {
   "cell_type": "code",
   "execution_count": 26,
   "metadata": {},
   "outputs": [
    {
     "name": "stdout",
     "output_type": "stream",
     "text": [
      "Sorted list (without error): [1, 1, 2, 3, 3, 4, 5, 5, 5, 6, 9]\n"
     ]
    }
   ],
   "source": [
    "def sort_list_good(numbers): #Cambiamos el nombre de la función para indicar que es la correcta\n",
    "    for i in range(len(numbers)):\n",
    "        for j in range(i + 1, len(numbers)):\n",
    "            if numbers[i] > numbers[j]:\n",
    "                temp = numbers[i]\n",
    "                numbers[i] = numbers[j]  \n",
    "                numbers[j] = temp #Agregamos esta línea de línea que antes estaba como texto\n",
    "    return numbers\n",
    "\n",
    "# Lista de prueba\n",
    "test_list = [3, 1, 4, 1, 5, 9, 2, 6, 5, 3, 5]\n",
    "#Cambiamos la función por la buena e imprimos el resultado sin error\n",
    "sorted_list = sort_list_good(test_list)\n",
    "print(\"Sorted list (without error):\", sorted_list)\n"
   ]
  },
  {
   "cell_type": "code",
   "execution_count": 28,
   "metadata": {},
   "outputs": [
    {
     "name": "stdout",
     "output_type": "stream",
     "text": [
      "[1, 1, 2, 3, 3, 4, 5, 5, 5, 6, 9]\n"
     ]
    }
   ],
   "source": [
    "#Comprobamos mediante la ayuda del método sort()\n",
    "test_list = [3, 1, 4, 1, 5, 9, 2, 6, 5, 3, 5]\n",
    "test_list.sort(reverse=False)\n",
    "print(test_list)"
   ]
  }
 ],
 "metadata": {
  "kernelspec": {
   "display_name": "progra_1",
   "language": "python",
   "name": "python3"
  },
  "language_info": {
   "codemirror_mode": {
    "name": "ipython",
    "version": 3
   },
   "file_extension": ".py",
   "mimetype": "text/x-python",
   "name": "python",
   "nbconvert_exporter": "python",
   "pygments_lexer": "ipython3",
   "version": "3.8.17"
  }
 },
 "nbformat": 4,
 "nbformat_minor": 2
}
