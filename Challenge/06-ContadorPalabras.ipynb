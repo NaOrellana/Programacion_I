{
 "cells": [
  {
   "cell_type": "markdown",
   "metadata": {},
   "source": [
    "### Desafío 6: Contador de Palabras\n",
    "Crea un script que lea un archivo de texto y cuente el número de ocurrencias de cada palabra en el archivo. Luego, deberá escribir estas estadísticas en un nuevo archivo."
   ]
  },
  {
   "cell_type": "code",
   "execution_count": 7,
   "metadata": {},
   "outputs": [],
   "source": [
    "import string #Instalamos la librería string con operaciones comunes de cadena de caracteres\n",
    "\n",
    "#Abrimos el archivo en modo de solo lectura para evitar modificarlo\n",
    "text = open(\"ContadorMuestra.txt\", \"r\") \n",
    "\n",
    "#Creamos un diccionario vacío donde se guardará la información\n",
    "d = dict() \n",
    "\n",
    "#Hacemos un bucle para cada línea de texto\n",
    "for line in text: \n",
    "    line = line.strip() #Eliminamos caracteres especiales\n",
    "    line = line.lower() #Ponemos todas las palabras en minusculas para evitar que nos considere como palabras diferentes si tienen mayuscula\n",
    "    line = line.translate(line.maketrans(\"\", \"\", string.punctuation)) #Eliminamos signos de puntuación\n",
    "    words = line.split(\" \") #Dividimos las líneas en palabras \n",
    "    for word in words: #Este segundo bucle es para cada palabra\n",
    "        if word in d:\n",
    "            d[word] = d[word] + 1 #Si ya está la palabra que incremente por uno el contador\n",
    "        else: \n",
    "            d[word] = 1 #De lo contrario que añada la palabra al diccionario con el contador uno\n",
    "\n",
    "#Le pedimos que imprima los resultados en un archivo de texto aparte nombrado \"ContadorStat\", en este caso le di el modo de que se pueda sobreescribir la información en caso de modificar el texto\n",
    "with open(\"ContadorStat.txt\", \"w\") as f:\n",
    "    for key in list(d.keys()): \n",
    "        print(key, \" \", d[key], file=f) \n"
   ]
  }
 ],
 "metadata": {
  "kernelspec": {
   "display_name": "progra_1",
   "language": "python",
   "name": "python3"
  },
  "language_info": {
   "codemirror_mode": {
    "name": "ipython",
    "version": 3
   },
   "file_extension": ".py",
   "mimetype": "text/x-python",
   "name": "python",
   "nbconvert_exporter": "python",
   "pygments_lexer": "ipython3",
   "version": "3.8.17"
  }
 },
 "nbformat": 4,
 "nbformat_minor": 2
}
