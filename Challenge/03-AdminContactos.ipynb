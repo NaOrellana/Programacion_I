{
 "cells": [
  {
   "cell_type": "markdown",
   "metadata": {},
   "source": [
    "### Desafío 3: Administrador de contactos\n",
    "Crea un programa que permita administrar una lista de contactos. Cada contacto deberá tener un nombre, un número de teléfono y una dirección de correo electrónico. El programa deberá ofrecer las siguientes funcionalidades:\n",
    "\n",
    "1.\tAgregar un contacto nuevo\n",
    "2.\tVer la lista de contactos\n",
    "3.\tBuscar un contacto por nombre\n",
    "4.\tEliminar un contacto por nombre\n",
    "\n",
    "Usa listas y tuplas para almacenar los contactos y un diccionario para almacenar la información de cada contacto. También deberás crear distintas funciones para cada una de las funcionalidades.\n"
   ]
  },
  {
   "cell_type": "code",
   "execution_count": 41,
   "metadata": {},
   "outputs": [
    {
     "name": "stdout",
     "output_type": "stream",
     "text": [
      "Lista de contactos:\n",
      "Nayeli\n",
      "Carlos\n",
      "No existe un contacto llamado  Juan\n",
      "Lista de contactos:\n",
      "Nayeli\n",
      "Carlos\n",
      "Juan\n",
      "Nombre: Juan\n",
      "Teléfono: 044 33 3333\n",
      "Email: correo3@gmail.com\n",
      "Lista de contactos:\n",
      "Nayeli\n",
      "Juan\n"
     ]
    }
   ],
   "source": [
    "#Creamos un diccionario vacío para guardar ahí posteriormente la información.\n",
    "contactos = {}\n",
    "\n",
    "#Después se crea una variable que nos servirá de menú para nuestras funciones.\n",
    "funcion = \"\"\n",
    "while funcion != \"5\": #Creamos un bucle para poder utilizar todas nuestras funciones.\n",
    "#Este primer if será para nuestra función 1: agregar un contacto\n",
    "    if funcion == \"1\": \n",
    "        name = input(\"Nombre del contacto: \")\n",
    "        phone = input(\"Número de teléfono: \")\n",
    "        email = input(\"Dirección de correo electrónico: \")\n",
    "        contacto_ind = {\"nombre\":name, \"teléfono\":phone, \"email\":email} #La información individual del contacto se guardará en la variable contacto_ind\n",
    "        contactos[name] = contacto_ind\n",
    "#El segundo if es para mostrar la lista de contactos\n",
    "    if funcion == \"2\":\n",
    "        print(\"Lista de contactos:\")\n",
    "        for clave, valor in contactos.items():\n",
    "            print(valor[\"nombre\"])\n",
    "#El tercer if para buscar un contacto por nombre\n",
    "    if funcion == \"3\":\n",
    "        name = input(\"¿Cómo se llama el contacto?\")\n",
    "        if name in contactos:\n",
    "            for clave, valor in contactos[name].items():\n",
    "                print(clave.title() + \":\", valor)\n",
    "        else:\n",
    "            print(\"No existe un contacto llamado \", name)\n",
    "#El cuarto if para eliminar contactos de la lista\n",
    "    if funcion == \"4\":\n",
    "        name = input(\"¿Cómo se llama el contacto que desea eliminar?\")\n",
    "        if name in contactos:\n",
    "            contactos.pop(name)\n",
    "        else:\n",
    "            print(\"No existe un contacto llamado \", name)\n",
    "    funcion = input(\"Menú de opciones:\\n(1) Agregar contacto nuevo\\n(2) Ver lista de contactos\\n(3) Buscar contacto\\n(4) Eliminar contacto\\n(5) Terminar\") #Nuestro menú de opciones"
   ]
  }
 ],
 "metadata": {
  "kernelspec": {
   "display_name": "progra_1",
   "language": "python",
   "name": "python3"
  },
  "language_info": {
   "codemirror_mode": {
    "name": "ipython",
    "version": 3
   },
   "file_extension": ".py",
   "mimetype": "text/x-python",
   "name": "python",
   "nbconvert_exporter": "python",
   "pygments_lexer": "ipython3",
   "version": "3.8.17"
  }
 },
 "nbformat": 4,
 "nbformat_minor": 2
}
