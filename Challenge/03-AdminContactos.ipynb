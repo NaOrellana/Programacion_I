{
 "cells": [
  {
   "cell_type": "markdown",
   "metadata": {},
   "source": [
    "### Desafío 3: Administrador de contactos\n",
    "Crea un programa que permita administrar una lista de contactos. Cada contacto deberá tener un nombre, un número de teléfono y una dirección de correo electrónico. El programa deberá ofrecer las siguientes funcionalidades:\n",
    "\n",
    "1.\tAgregar un contacto nuevo\n",
    "2.\tVer la lista de contactos\n",
    "3.\tBuscar un contacto por nombre\n",
    "4.\tEliminar un contacto por nombre\n",
    "\n",
    "Usa listas y tuplas para almacenar los contactos y un diccionario para almacenar la información de cada contacto. También deberás crear distintas funciones para cada una de las funcionalidades.\n"
   ]
  },
  {
   "cell_type": "code",
   "execution_count": 18,
   "metadata": {},
   "outputs": [
    {
     "name": "stdout",
     "output_type": "stream",
     "text": [
      "Lista de contactos:\n",
      "No hay contactos registrados.\n",
      "Lista de contactos:\n"
     ]
    },
    {
     "ename": "TypeError",
     "evalue": "tuple indices must be integers or slices, not str",
     "output_type": "error",
     "traceback": [
      "\u001b[1;31m---------------------------------------------------------------------------\u001b[0m",
      "\u001b[1;31mTypeError\u001b[0m                                 Traceback (most recent call last)",
      "\u001b[1;32mc:\\Users\\celia\\OneDrive - Universidad de Guadalajara\\Documents\\Python Scripts\\MCD\\Programacion_I\\GitHub\\Programacion_I\\Challenge\\03-AdminContactos.ipynb Cell 2\u001b[0m line \u001b[0;36m1\n\u001b[0;32m     <a href='vscode-notebook-cell:/c%3A/Users/celia/OneDrive%20-%20Universidad%20de%20Guadalajara/Documents/Python%20Scripts/MCD/Programacion_I/GitHub/Programacion_I/Challenge/03-AdminContactos.ipynb#W2sZmlsZQ%3D%3D?line=10'>11</a>\u001b[0m \u001b[39mprint\u001b[39m(\u001b[39m\"\u001b[39m\u001b[39mLista de contactos:\u001b[39m\u001b[39m\"\u001b[39m)\n\u001b[0;32m     <a href='vscode-notebook-cell:/c%3A/Users/celia/OneDrive%20-%20Universidad%20de%20Guadalajara/Documents/Python%20Scripts/MCD/Programacion_I/GitHub/Programacion_I/Challenge/03-AdminContactos.ipynb#W2sZmlsZQ%3D%3D?line=11'>12</a>\u001b[0m \u001b[39mfor\u001b[39;00m lista \u001b[39min\u001b[39;00m contactos\u001b[39m.\u001b[39mitems():\n\u001b[1;32m---> <a href='vscode-notebook-cell:/c%3A/Users/celia/OneDrive%20-%20Universidad%20de%20Guadalajara/Documents/Python%20Scripts/MCD/Programacion_I/GitHub/Programacion_I/Challenge/03-AdminContactos.ipynb#W2sZmlsZQ%3D%3D?line=12'>13</a>\u001b[0m     \u001b[39mprint\u001b[39m(lista[\u001b[39m\"\u001b[39;49m\u001b[39mnombre\u001b[39;49m\u001b[39m\"\u001b[39;49m])\n\u001b[0;32m     <a href='vscode-notebook-cell:/c%3A/Users/celia/OneDrive%20-%20Universidad%20de%20Guadalajara/Documents/Python%20Scripts/MCD/Programacion_I/GitHub/Programacion_I/Challenge/03-AdminContactos.ipynb#W2sZmlsZQ%3D%3D?line=13'>14</a>\u001b[0m \u001b[39melse\u001b[39;00m:\n\u001b[0;32m     <a href='vscode-notebook-cell:/c%3A/Users/celia/OneDrive%20-%20Universidad%20de%20Guadalajara/Documents/Python%20Scripts/MCD/Programacion_I/GitHub/Programacion_I/Challenge/03-AdminContactos.ipynb#W2sZmlsZQ%3D%3D?line=14'>15</a>\u001b[0m     \u001b[39mprint\u001b[39m(\u001b[39m\"\u001b[39m\u001b[39mNo hay contactos registrados.\u001b[39m\u001b[39m\"\u001b[39m)\n",
      "\u001b[1;31mTypeError\u001b[0m: tuple indices must be integers or slices, not str"
     ]
    }
   ],
   "source": [
    "contactos = {}\n",
    "funcion = \"\"\n",
    "while funcion != \"5\":\n",
    "    if funcion == \"1\":\n",
    "        name = input(\"Nombre del contacto: \")\n",
    "        phone = input(\"Número de teléfono: \")\n",
    "        email = input(\"Dirección de correo electrónico: \")\n",
    "        contacto_ind = {\"nombre\":name, \"teléfono\":phone, \"email\":email}\n",
    "        contactos[name] = contacto_ind\n",
    "    if funcion == \"2\":\n",
    "        print(\"Lista de contactos:\")\n",
    "        for lista in contactos.items():\n",
    "            print(lista[\"nombre\"])\n",
    "        else:\n",
    "            print(\"No hay contactos registrados.\")\n",
    "    if funcion == \"3\":\n",
    "        name = input(\"¿Cómo se llama el contacto?\")\n",
    "        if name in contactos:\n",
    "            print(\"Nombre:\", name)\n",
    "            for valor in contactos[name].items():\n",
    "                print(valor.title() + \":\", name)\n",
    "        else:\n",
    "            print(\"No existe un contacto llamado \", name)\n",
    "    if funcion == \"4\":\n",
    "        name = input(\"¿Cómo se llama el contacto que desea eliminar?\")\n",
    "        if name in contactos:\n",
    "            contactos.pop(name)\n",
    "        else:\n",
    "            print(\"No existe un contacto llamado \", name)\n",
    "    funcion = input(\"Menú de opciones:\\n(1) Agregar contacto nuevo\\n(2) Ver lista de contactos\\n(3) Buscar contacto\\n(4) Eliminar contacto\\n(5) Terminar\")"
   ]
  }
 ],
 "metadata": {
  "kernelspec": {
   "display_name": "progra_1",
   "language": "python",
   "name": "python3"
  },
  "language_info": {
   "codemirror_mode": {
    "name": "ipython",
    "version": 3
   },
   "file_extension": ".py",
   "mimetype": "text/x-python",
   "name": "python",
   "nbconvert_exporter": "python",
   "pygments_lexer": "ipython3",
   "version": "3.8.17"
  }
 },
 "nbformat": 4,
 "nbformat_minor": 2
}
