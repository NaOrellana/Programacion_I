{
 "cells": [
  {
   "cell_type": "markdown",
   "metadata": {},
   "source": [
    "### Desafío 5: Composición de Funciones\n",
    "Crea una función componer que tome una lista de funciones y retorne una nueva función que represente la composición de las funciones originales. La composición de funciones es una operación donde el resultado de una función se utiliza como el argumento de la siguiente."
   ]
  },
  {
   "cell_type": "code",
   "execution_count": 35,
   "metadata": {},
   "outputs": [
    {
     "name": "stdout",
     "output_type": "stream",
     "text": [
      "Tiene un perimetro de 60 metros y se requieren 30.0 baldosas de piso antiderrapante.\n",
      "Su área es de 200 metros cuadrados y se requieren 400.0 baldosas de azulejo.\n",
      "La piscina tendrá 1000 metros cúbicos, lo que es igual a 1000000 litros de agua. Se necesitarán 200.0 pipas de 5000 litros de capacidad para llenarla.\n"
     ]
    }
   ],
   "source": [
    "#Trabajas en una empresa dedicada a construir albercas. \n",
    "altura = 10\n",
    "base = 20\n",
    "profundidad = 5\n",
    "piso = 2\n",
    "azulejo = 0.5\n",
    "pipa_litros = 5000\n",
    "\n",
    "#Calcula el perimetro para saber cuántos metros necesitarás de piso antiderrapante.\n",
    "def perimetro(altura, base):\n",
    "    return 2 * altura + 2 * base\n",
    "\n",
    "def metros_piso(perimetro, piso):\n",
    "    return perimetro(altura, base) / piso\n",
    "\n",
    "print(\"Tiene un perimetro de\", perimetro(altura, base), \"metros y se requieren\", metros_piso(perimetro, piso), \"baldosas de piso antiderrapante.\")\n",
    "\n",
    "#Calcula el área para saber cuántos metros necesitarás de azulejo dentro de la piscina.\n",
    "def area(base, altura):\n",
    "    return base * altura\n",
    "\n",
    "def m_azulejo(area, azulejo):\n",
    "    return area(base, altura) / azulejo\n",
    "\n",
    "print(\"Su área es de\", area(base, altura), \"metros cuadrados y se requieren\", m_azulejo(area, azulejo), \"baldosas de azulejo.\")\n",
    "\n",
    "#Calcula cuántos litros de agua se necesitarán para llenarla.\n",
    "def volumen(altura, base, profundidad):\n",
    "    return altura * base * profundidad\n",
    "\n",
    "def litros(volumen):\n",
    "    return volumen(altura, base, profundidad) * 1000\n",
    "\n",
    "def pipas(litros, pipa_litros):\n",
    "    return litros(volumen) / pipa_litros\n",
    "\n",
    "print(\"La piscina tendrá\", volumen(altura, base, profundidad), \"metros cúbicos, lo que es igual a\", litros(volumen), \"litros de agua. Se necesitarán\", pipas(litros, pipa_litros), \"pipas de\", pipa_litros, \"litros de capacidad para llenarla.\")\n"
   ]
  }
 ],
 "metadata": {
  "kernelspec": {
   "display_name": "progra_1",
   "language": "python",
   "name": "python3"
  },
  "language_info": {
   "codemirror_mode": {
    "name": "ipython",
    "version": 3
   },
   "file_extension": ".py",
   "mimetype": "text/x-python",
   "name": "python",
   "nbconvert_exporter": "python",
   "pygments_lexer": "ipython3",
   "version": "3.8.17"
  }
 },
 "nbformat": 4,
 "nbformat_minor": 2
}
