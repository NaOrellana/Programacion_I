{
 "cells": [
  {
   "cell_type": "markdown",
   "metadata": {},
   "source": [
    "## Diccionarios\n",
    "\n",
    "Los diccionarios en Python son una estructura de datos que permite almacenar pares de clave-valor. Cada clave está asociada a un valor, y puedes usar la clave para acceder al valor correspondiente. Aquí está cómo funcionan:\n",
    "\n",
    "* Crear un Diccionario\n",
    "\n",
    "Para crear un diccionario, utiliza llaves {} para encerrar los pares de clave-valor, con los pares separados por comas."
   ]
  },
  {
   "cell_type": "code",
   "execution_count": 1,
   "metadata": {},
   "outputs": [],
   "source": [
    "#mi_diccionario = {\n",
    "#    \"nombre\": \"Alice\",\n",
    "#    \"edad\": 25,\n",
    "#    \"ciudad\": \"Nueva York\"\n",
    "#}"
   ]
  },
  {
   "cell_type": "markdown",
   "metadata": {},
   "source": [
    "**Métodos Útiles**\n",
    "\n",
    "Python también proporciona varios métodos útiles que puedes usar con diccionarios, como:\n",
    "\n",
    "* dict.keys(): Para obtener todas las claves del diccionario.\n",
    "* dict.values(): Para obtener todos los valores del diccionario.\n",
    "* dict.items(): Para obtener todos los pares clave-valor del diccionario.\n",
    "* dict.get(): Para obtener el valor asociado con una clave, y especificar un valor predeterminado si la clave no existe."
   ]
  },
  {
   "cell_type": "markdown",
   "metadata": {},
   "source": [
    "### Ejercicio 1\n",
    "\n",
    "Escribir un programa que guarde en una variable el diccionario `{'Euro':'€', 'Dollar':'$', 'Yen':'¥'}`, pregunte al usuario por una divisa y muestre su símbolo o un mensaje de aviso si la divisa no está en el diccionario."
   ]
  },
  {
   "cell_type": "code",
   "execution_count": 3,
   "metadata": {},
   "outputs": [
    {
     "name": "stdout",
     "output_type": "stream",
     "text": [
      "La divisa no está.\n"
     ]
    }
   ],
   "source": [
    "monedas = {'Euro':'€', 'Dollar':'$', 'Yen':'¥'}\n",
    "moneda = input(\"Introduce una divisa: \")\n",
    "print(monedas.get(moneda.title(), \"La divisa no está.\"))"
   ]
  },
  {
   "cell_type": "markdown",
   "metadata": {},
   "source": [
    "### Ejercicio 2\n",
    "\n",
    "Escribir un programa que pregunte al usuario su nombre, edad, dirección y teléfono y lo guarde en un diccionario. Despúes debe mostrar por pantalla el mensaje `<nombre> tiene <edad> años, vive en <dirección> y su número de teléfono es <teléfono>`."
   ]
  },
  {
   "cell_type": "code",
   "execution_count": 2,
   "metadata": {},
   "outputs": [
    {
     "name": "stdout",
     "output_type": "stream",
     "text": [
      "Nayeli tiene 32 años, vive en Zapopan 45160 y su número de teléfono es 33554499\n"
     ]
    }
   ],
   "source": [
    "nombre = input('¿Cómo te llamas? ')\n",
    "edad = input('¿Cuántos años tienes? ')\n",
    "direccion = input('¿Cuál es tu dirección? ')\n",
    "telefono = input('¿Cuál es tu número de teléfono? ')\n",
    "persona = {'nombre': nombre, 'edad': edad, 'direccion': direccion, 'telefono': telefono}\n",
    "print(persona['nombre'], 'tiene', persona['edad'], 'años, vive en', persona['direccion'], 'y su número de teléfono es', persona['telefono'])"
   ]
  },
  {
   "cell_type": "markdown",
   "metadata": {},
   "source": [
    "### Ejercicio 3\n",
    "\n",
    "Escribir un programa que guarde en un diccionario los precios de las frutas de la tabla, pregunte al usuario por una fruta, un número de kilos y muestre por pantalla el precio de ese número de kilos de fruta. Si la fruta no está en el diccionario debe mostrar un mensaje informando de ello.\n",
    "\n",
    "| Fruta | Precio|\n",
    "|:-|:-:|\n",
    "|Plátano | 1.35 |\n",
    "|Manzana | 0.80|\n",
    "|Pera| 0.85|\n",
    "|Naranja | 0.70|"
   ]
  },
  {
   "cell_type": "code",
   "execution_count": 8,
   "metadata": {},
   "outputs": [
    {
     "name": "stdout",
     "output_type": "stream",
     "text": [
      "2.0 kilos de Pera valen 1.7 pesos\n"
     ]
    }
   ],
   "source": [
    "frutas = {'Plátano':1.35, 'Manzana':0.8, 'Pera':0.85, 'Naranja':0.7}\n",
    "fruta = input('¿Qué fruta quieres? ').title()\n",
    "kg = float(input('¿Cuántos kilos? '))\n",
    "if fruta in frutas:\n",
    "    print(kg, 'kilos de', fruta, 'valen', frutas[fruta]*kg, 'pesos')\n",
    "else:\n",
    "    print(\"Lo siento, la fruta\", fruta, \"no está disponible.\")"
   ]
  },
  {
   "cell_type": "markdown",
   "metadata": {},
   "source": [
    "### Ejercicio 4\n",
    "\n",
    "Escribir un programa que pregunte una fecha en formato `dd/mm/aaaa` y muestre por pantalla la misma fecha en formato `dd de <mes> de aaaa` donde `<mes>` es el nombre del mes."
   ]
  },
  {
   "cell_type": "code",
   "execution_count": 10,
   "metadata": {},
   "outputs": [
    {
     "name": "stdout",
     "output_type": "stream",
     "text": [
      "24 de enero de 1986\n"
     ]
    }
   ],
   "source": [
    "meses = {1:\"enero\", 2:\"febrero\", 3:\"marzo\", 4:\"abril\", 5:\"mayo\", 6:\"junio\", 7:\"julio\", 8:\"agosto\", 9:\"septiembre\", 10:\"octubre\", 11:\"noviembre\", 12:\"diciembre\"}\n",
    "fecha = input(\"Escribe una fecha en formato dd/mm/aaaa\")\n",
    "fecha = fecha.split(\"/\")\n",
    "print(fecha[0], \"de\", meses[int(fecha[1])], \"de\", fecha[2])"
   ]
  },
  {
   "cell_type": "markdown",
   "metadata": {},
   "source": [
    "### Ejercicio 5\n",
    "\n",
    "Escribir un programa que almacene el diccionario con los créditos de las asignaturas de un curso `{'Matemáticas': 6, 'Física': 4, 'Química': 5}` y después muestre por pantalla los créditos de cada asignatura en el formato `<asignatura> tiene <créditos> créditos`, donde `<asignatura>` es cada una de las asignaturas del curso, y `<créditos>` son sus créditos. Al final debe mostrar también el número total de créditos del curso."
   ]
  },
  {
   "cell_type": "code",
   "execution_count": 11,
   "metadata": {},
   "outputs": [
    {
     "name": "stdout",
     "output_type": "stream",
     "text": [
      "Matemáticas tiene 6 créditos\n",
      "Física tiene 4 créditos\n",
      "Química tiene 5 créditos\n",
      "Número total de créditos del curso:  15\n"
     ]
    }
   ],
   "source": [
    "creditos = {\"Matemáticas\":6, \"Física\": 4, \"Química\":5}\n",
    "total_creditos = 0\n",
    "for asignatura, curso in creditos.items():\n",
    "    print(asignatura, \"tiene\", curso, \"créditos\")\n",
    "    total_creditos += curso\n",
    "print(\"Número total de créditos del curso: \", total_creditos)"
   ]
  },
  {
   "cell_type": "markdown",
   "metadata": {},
   "source": [
    "### Ejercicio 6\n",
    "\n",
    "Escribir un programa que cree un diccionario vacío y lo vaya llenado con información sobre una persona (por ejemplo nombre, edad, sexo, teléfono, correo electrónico, etc.) que se le pida al usuario. Cada vez que se añada un nuevo dato debe imprimirse el contenido del diccionario."
   ]
  },
  {
   "cell_type": "code",
   "execution_count": 14,
   "metadata": {},
   "outputs": [
    {
     "name": "stdout",
     "output_type": "stream",
     "text": [
      "{'Nombre': 'Nayeli'}\n",
      "{'Nombre': 'Nayeli', 'Edad': '32'}\n",
      "{'Nombre': 'Nayeli', 'Edad': '32', 'Sexo': 'Femenino'}\n",
      "{'Nombre': 'Nayeli', 'Edad': '32', 'Sexo': 'Femenino', 'Teléfono': '3344887799'}\n"
     ]
    }
   ],
   "source": [
    "persona = {}\n",
    "continuar = True\n",
    "while continuar:\n",
    "    clave = input(\"¿Qué datos quieres introducir?\")\n",
    "    valor = input(clave + \":\")\n",
    "    persona[clave] = valor\n",
    "    print(persona)\n",
    "    continuar = input(\"¿Quieres añadir más información (Sí/No)?\") == \"Sí\""
   ]
  },
  {
   "cell_type": "markdown",
   "metadata": {},
   "source": [
    "### Ejercicio 7\n",
    "\n",
    "Escribir un programa que cree un diccionario simulando una cesta de la compra. El programa debe preguntar el artículo y su precio y añadir el par al diccionario, hasta que el usuario decida terminar. Después se debe mostrar por pantalla la lista de la compra y el coste total, con el siguiente formato\n",
    "\n",
    "|Lista de la compra| |\n",
    "|:-|-:|\n",
    "|Artículo 1 | Precio|\n",
    "|Artículo 2 | Precio|\n",
    "|Artículo 3 | Precio|\n",
    "|...| ...|\n",
    "|Total| Coste|"
   ]
  },
  {
   "cell_type": "code",
   "execution_count": 17,
   "metadata": {},
   "outputs": [
    {
     "name": "stdout",
     "output_type": "stream",
     "text": [
      "Lista de compras\n",
      "Jabón \t 15.0\n",
      "Leche \t 31.9\n",
      "Jitomate \t 30.0\n",
      "Costo total:  76.9\n"
     ]
    }
   ],
   "source": [
    "cesta = {}\n",
    "continuar = True\n",
    "while continuar:\n",
    "    item = input(\"Introduce un artículo: \")\n",
    "    precio = float(input(\"Introduce el precio de\" + item + \": \"))\n",
    "    cesta[item] = precio\n",
    "    continuar = input(\"¿Quieres añadir más artículos a la lista (Sí/No)?\") == \"Sí\"\n",
    "coste = 0\n",
    "print(\"Lista de compras\")\n",
    "for item, precio in cesta.items():\n",
    "    print(item, \"\\t\", precio)\n",
    "    coste += precio\n",
    "print(\"Costo total: \", coste)"
   ]
  },
  {
   "cell_type": "markdown",
   "metadata": {},
   "source": [
    "### Ejercicio 8\n",
    "\n",
    "Escribir un programa que cree un diccionario de traducción español-inglés. El usuario introducirá las palabras en español e inglés separadas por dos puntos, y cada par `<palabra>:<traducción>` separados por comas. El programa debe crear un diccionario con las palabras y sus traducciones. Después pedirá una frase en español y utilizará el diccionario para traducirla palabra a palabra. Si una palabra no está en el diccionario debe dejarla sin traducir."
   ]
  },
  {
   "cell_type": "code",
   "execution_count": 20,
   "metadata": {},
   "outputs": [
    {
     "name": "stdout",
     "output_type": "stream",
     "text": [
      "nothing last para forever "
     ]
    }
   ],
   "source": [
    "diccionario = {}\n",
    "palabras = input(\"Introduce la lista de palabras y traducciones en formato palabra:traducción separadas por comas: \")\n",
    "for i in palabras.split(','):\n",
    "    clave, valor = i.split(':')\n",
    "    diccionario[clave] = valor\n",
    "frase = input('Introduce una frase en español: ')\n",
    "for i in frase.split():\n",
    "    if i in diccionario:\n",
    "        print(diccionario[i], end=' ')\n",
    "    else:\n",
    "        print(i, end=' ')"
   ]
  },
  {
   "cell_type": "markdown",
   "metadata": {},
   "source": [
    "### Ejercicio  9\n",
    "\n",
    "Escribir un programa que gestione las facturas pendientes de cobro de una empresa. Las facturas se almacenarán en un diccionario donde la clave de cada factura será el número de factura y el valor el coste de la factura. El programa debe preguntar al usuario si quiere añadir una nueva factura, pagar una existente o terminar. Si desea añadir una nueva factura se preguntará por el número de factura y su coste y se añadirá al diccionario. Si se desea pagar una factura se preguntará por el número de factura y se eliminará del diccionario. Después de cada operación el programa debe mostrar por pantalla la cantidad cobrada hasta el momento y la cantidad pendiente de cobro."
   ]
  },
  {
   "cell_type": "code",
   "execution_count": 21,
   "metadata": {},
   "outputs": [
    {
     "name": "stdout",
     "output_type": "stream",
     "text": [
      "Recaudado: 0\n",
      "Pendiente de cobro:  0\n",
      "Recaudado: 0\n",
      "Pendiente de cobro:  25.0\n",
      "Recaudado: 0\n",
      "Pendiente de cobro:  36.0\n",
      "Recaudado: 0\n",
      "Pendiente de cobro:  50.0\n",
      "Recaudado: 11.0\n",
      "Pendiente de cobro:  39.0\n",
      "Recaudado: 36.0\n",
      "Pendiente de cobro:  14.0\n",
      "Recaudado: 36.0\n",
      "Pendiente de cobro:  32.0\n"
     ]
    }
   ],
   "source": [
    "facturas = {}\n",
    "cobrado = 0\n",
    "pendiente = 0\n",
    "more = \"\"\n",
    "while more != \"T\":\n",
    "    if more == \"A\":\n",
    "        clave = input(\"Introduce el número de la factura: \")\n",
    "        coste = float(input(\"Introduce el coste de la factura: \"))\n",
    "        facturas[clave] = coste\n",
    "        pendiente += coste\n",
    "    if more == \"P\":\n",
    "        clave = input(\"Introduce el número de la factura a pagar: \")\n",
    "        coste = facturas.pop(clave,0)\n",
    "        cobrado += coste\n",
    "        pendiente -= coste\n",
    "    print(\"Recaudado:\", cobrado)\n",
    "    print(\"Pendiente de cobro: \", pendiente)\n",
    "    more = input(\"¿Quieres añadir una nueva factura (A), pagarla (P) o terminar (T)? \")"
   ]
  },
  {
   "cell_type": "markdown",
   "metadata": {},
   "source": [
    "### Ejercicio 10\n",
    "\n",
    "Escribir un programa que permita gestionar la base de datos de clientes de una empresa. Los clientes se guardarán en un diccionario en el que la clave de cada cliente será su NIF, y el valor será otro diccionario con los datos del cliente (nombre, dirección, teléfono, correo, preferente), donde preferente tendrá el valor `True` si se trata de un cliente preferente. El programa debe preguntar al usuario por una opción del siguiente menú: (1) Añadir cliente, (2) Eliminar cliente, (3) Mostrar cliente, (4) Listar todos los clientes, (5) Listar clientes preferentes, (6) Terminar. En función de la opción elegida el programa tendrá que hacer lo siguiente:\n",
    "\n",
    "1. Preguntar los datos del cliente, crear un diccionario con los datos y añadirlo a la base de datos.\n",
    "2. Preguntar por el NIF del cliente y eliminar sus datos de la base de datos.\n",
    "3. Preguntar por el NIF del cliente y mostrar sus datos.\n",
    "4. Mostrar lista de todos los clientes de la base datos con su NIF y nombre.\n",
    "5. Mostrar la lista de clientes preferentes de la base de datos con su NIF y nombre.\n",
    "6. Terminar el programa."
   ]
  },
  {
   "cell_type": "code",
   "execution_count": 23,
   "metadata": {},
   "outputs": [
    {
     "name": "stdout",
     "output_type": "stream",
     "text": [
      "NIF: 1\n",
      "Nombre: Nayeli\n",
      "Dirección: Zapopan\n",
      "Teléfono: 3311223344\n",
      "Email: email@email.com\n",
      "Preferente: True\n",
      "Lista de clientes\n",
      "1 Nayeli\n",
      "2 Carlos\n",
      "Lista de clientes\n",
      "1 Nayeli\n",
      "2 Carlos\n",
      "Lista de clientes preferentes\n",
      "1 Nayeli\n"
     ]
    }
   ],
   "source": [
    "clientes = {}\n",
    "opcion = ''\n",
    "while opcion != '6':\n",
    "    if opcion == '1':\n",
    "        nif = input('Introduce NIF del cliente: ')\n",
    "        nombre = input('Introduce el nombre del cliente: ')\n",
    "        direccion = input('Introduce la dirección del cliente: ')\n",
    "        telefono = input('Introduce el teléfono del cliente: ')\n",
    "        email = input('Introduce el correo electrónico del cliente: ')\n",
    "        vip = input('¿Es un cliente preferente (S/N)? ')\n",
    "        cliente = {'nombre':nombre, 'dirección':direccion, 'teléfono':telefono, 'email':email, 'preferente':vip=='S'}\n",
    "        clientes[nif] = cliente\n",
    "    if opcion == '2':\n",
    "        nif = input('Introduce NIF del cliente: ')\n",
    "        if nif in clientes:\n",
    "            del clientes[nif]\n",
    "        else:\n",
    "            print('No existe el cliente con el nif', nif)\n",
    "    if opcion == '3':\n",
    "        nif = input('Introduce NIF del cliente: ')\n",
    "        if nif in clientes:\n",
    "            print('NIF:', nif)\n",
    "            for clave, valor in clientes[nif].items():\n",
    "                print(clave.title() + ':', valor)\n",
    "        else:\n",
    "            print('No existe el cliente con el nif', nif)\n",
    "    if opcion == '4':\n",
    "        print('Lista de clientes')\n",
    "        for clave, valor in clientes.items():\n",
    "            print(clave, valor['nombre'])\n",
    "    if opcion == '5':\n",
    "        print('Lista de clientes preferentes')\n",
    "        for clave, valor in clientes.items():\n",
    "            if valor['preferente']:\n",
    "                print(clave, valor['nombre'])\n",
    "    opcion = input('Menú de opciones\\n(1) Añadir cliente\\n(2) Eliminar cliente\\n(3) Mostrar cliente\\n(4) Listar clientes\\n(5) Listar clientes preferentes\\n(6) Terminar\\nElige una opción:')"
   ]
  }
 ],
 "metadata": {
  "kernelspec": {
   "display_name": "progra_1",
   "language": "python",
   "name": "python3"
  },
  "language_info": {
   "codemirror_mode": {
    "name": "ipython",
    "version": 3
   },
   "file_extension": ".py",
   "mimetype": "text/x-python",
   "name": "python",
   "nbconvert_exporter": "python",
   "pygments_lexer": "ipython3",
   "version": "3.8.17"
  },
  "orig_nbformat": 4
 },
 "nbformat": 4,
 "nbformat_minor": 2
}
