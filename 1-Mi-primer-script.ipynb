{
 "cells": [
  {
   "cell_type": "markdown",
   "metadata": {},
   "source": [
    "Mi primer script"
   ]
  },
  {
   "cell_type": "code",
   "execution_count": 1,
   "metadata": {},
   "outputs": [
    {
     "data": {
      "text/plain": [
       "5"
      ]
     },
     "execution_count": 1,
     "metadata": {},
     "output_type": "execute_result"
    }
   ],
   "source": [
    "2 + 3"
   ]
  },
  {
   "cell_type": "code",
   "execution_count": 2,
   "metadata": {},
   "outputs": [],
   "source": [
    "A = 6"
   ]
  },
  {
   "cell_type": "code",
   "execution_count": 3,
   "metadata": {},
   "outputs": [],
   "source": [
    "B = 3"
   ]
  },
  {
   "cell_type": "code",
   "execution_count": 4,
   "metadata": {},
   "outputs": [],
   "source": [
    "C = A + B"
   ]
  },
  {
   "cell_type": "code",
   "execution_count": 5,
   "metadata": {},
   "outputs": [
    {
     "data": {
      "text/plain": [
       "9"
      ]
     },
     "execution_count": 5,
     "metadata": {},
     "output_type": "execute_result"
    }
   ],
   "source": [
    "C"
   ]
  },
  {
   "cell_type": "markdown",
   "metadata": {},
   "source": [
    "Multiplicacion de variables"
   ]
  },
  {
   "cell_type": "code",
   "execution_count": 6,
   "metadata": {},
   "outputs": [
    {
     "data": {
      "text/plain": [
       "18"
      ]
     },
     "execution_count": 6,
     "metadata": {},
     "output_type": "execute_result"
    }
   ],
   "source": [
    "D = A*B\n",
    "D"
   ]
  },
  {
   "cell_type": "markdown",
   "metadata": {},
   "source": [
    "Suma de dos variables"
   ]
  },
  {
   "cell_type": "code",
   "execution_count": 7,
   "metadata": {},
   "outputs": [
    {
     "name": "stdout",
     "output_type": "stream",
     "text": [
      "La suma es: 15\n"
     ]
    }
   ],
   "source": [
    "num1 = 5\n",
    "num2 = 10\n",
    "suma = num1 + num2\n",
    "print(\"La suma es:\", suma)\n"
   ]
  },
  {
   "cell_type": "markdown",
   "metadata": {},
   "source": [
    "Multiplicación de dos variables"
   ]
  },
  {
   "cell_type": "code",
   "execution_count": 8,
   "metadata": {},
   "outputs": [
    {
     "name": "stdout",
     "output_type": "stream",
     "text": [
      "La multiplicación es: 50\n"
     ]
    }
   ],
   "source": [
    "multiplicacion = num1 * num2\n",
    "print(\"La multiplicación es:\", multiplicacion)"
   ]
  },
  {
   "cell_type": "markdown",
   "metadata": {},
   "source": [
    "Resta de dos variables"
   ]
  },
  {
   "cell_type": "code",
   "execution_count": 9,
   "metadata": {},
   "outputs": [
    {
     "name": "stdout",
     "output_type": "stream",
     "text": [
      "La resta es: 5\n"
     ]
    }
   ],
   "source": [
    "resta = num2 - num1\n",
    "print(\"La resta es:\", resta)"
   ]
  },
  {
   "cell_type": "markdown",
   "metadata": {},
   "source": [
    "División de dos variables"
   ]
  },
  {
   "cell_type": "code",
   "execution_count": 10,
   "metadata": {},
   "outputs": [
    {
     "name": "stdout",
     "output_type": "stream",
     "text": [
      "La division es: 2.0\n"
     ]
    }
   ],
   "source": [
    "division = num2 / num1\n",
    "print(\"La division es:\", division)"
   ]
  },
  {
   "cell_type": "markdown",
   "metadata": {},
   "source": [
    "Área de un triangulo (BASE * ALTURA)/2"
   ]
  },
  {
   "cell_type": "code",
   "execution_count": 2,
   "metadata": {},
   "outputs": [
    {
     "name": "stdout",
     "output_type": "stream",
     "text": [
      "El area del triangulo es: 100.0\n"
     ]
    }
   ],
   "source": [
    "base = 10\n",
    "height = 20\n",
    "areatrian = (base * height) / 2\n",
    "print(\"El area del triangulo es:\", areatrian)"
   ]
  },
  {
   "cell_type": "markdown",
   "metadata": {},
   "source": [
    "Área de un rectangulo (BASE * ALTURA)"
   ]
  },
  {
   "cell_type": "code",
   "execution_count": 3,
   "metadata": {},
   "outputs": [
    {
     "name": "stdout",
     "output_type": "stream",
     "text": [
      "El area del rectangulo es: 35\n"
     ]
    }
   ],
   "source": [
    "base = 5\n",
    "height = 7\n",
    "arearectan = base * height\n",
    "print(\"El area del rectangulo es:\", arearectan)"
   ]
  },
  {
   "cell_type": "markdown",
   "metadata": {},
   "source": [
    "Área de un círculo (Pi * radio^2)"
   ]
  },
  {
   "cell_type": "code",
   "execution_count": 5,
   "metadata": {},
   "outputs": [
    {
     "name": "stdout",
     "output_type": "stream",
     "text": [
      "El area del circulo es: 78.54\n"
     ]
    }
   ],
   "source": [
    "radio = 5\n",
    "areacir = 3.1416 * (radio ** 2)\n",
    "print(\"El area del circulo es:\", round(areacir,2))"
   ]
  },
  {
   "cell_type": "code",
   "execution_count": 8,
   "metadata": {},
   "outputs": [
    {
     "name": "stdout",
     "output_type": "stream",
     "text": [
      "El area del circulo es: 78.54 m2\n"
     ]
    }
   ],
   "source": [
    "import math\n",
    "radio = 5\n",
    "circulo = math.pi * (radio ** 2)\n",
    "print(\"El area del circulo es:\", round(circulo,2),\"m2\")"
   ]
  },
  {
   "cell_type": "code",
   "execution_count": 21,
   "metadata": {},
   "outputs": [
    {
     "name": "stdout",
     "output_type": "stream",
     "text": [
      "La suma es: 510\n"
     ]
    }
   ],
   "source": [
    "n1 = input(\"Introduce el primer valor: \")\n",
    "n2 = input(\"Introduce el segundo valor: \")\n",
    "suma = n1 + n2\n",
    "print(\"La suma es:\", suma)"
   ]
  },
  {
   "cell_type": "code",
   "execution_count": 1,
   "metadata": {},
   "outputs": [
    {
     "name": "stdout",
     "output_type": "stream",
     "text": [
      "La suma es: 15\n"
     ]
    }
   ],
   "source": [
    "n1 = int(input(\"Introduce el primer valor: \"))\n",
    "n2 = int(input(\"Introduce el segundo valor: !\"))\n",
    "suma = n1 + n2\n",
    "print(\"La suma es:\", suma)"
   ]
  },
  {
   "cell_type": "markdown",
   "metadata": {},
   "source": [
    "Área de un triangulo (BASE * ALTURA)/2 con input"
   ]
  },
  {
   "cell_type": "code",
   "execution_count": 14,
   "metadata": {},
   "outputs": [
    {
     "name": "stdout",
     "output_type": "stream",
     "text": [
      "El área del triangulo es  25.0 cm ^2\n"
     ]
    }
   ],
   "source": [
    "base = int(input(\"Introduce el valor de la base: \"))\n",
    "height = int(input(\"Introduce el valor de la altura: \"))\n",
    "uom = str(input(\"Introduce la unidad de medida: \"))\n",
    "areat = (base * height) / 2\n",
    "print(\"El área del triangulo es \", areat,uom,\"^2\")"
   ]
  },
  {
   "cell_type": "markdown",
   "metadata": {},
   "source": [
    "Área de un rectangulo (BASE * ALTURA) con input"
   ]
  },
  {
   "cell_type": "code",
   "execution_count": 16,
   "metadata": {},
   "outputs": [
    {
     "name": "stdout",
     "output_type": "stream",
     "text": [
      "El área del rectangulo es  50 m ^2\n"
     ]
    }
   ],
   "source": [
    "base = int(input(\"Introduce el valor de la base: \"))\n",
    "height = int(input(\"Introduce el valor de la altura: \"))\n",
    "uom = str(input(\"Introduce la unidad de medida: \"))\n",
    "arear = base * height\n",
    "print(\"El área del rectangulo es \", arear,uom,\"^2\")"
   ]
  },
  {
   "cell_type": "markdown",
   "metadata": {},
   "source": [
    "Área de un círculo (Pi * radio^2) con input"
   ]
  },
  {
   "cell_type": "code",
   "execution_count": 13,
   "metadata": {},
   "outputs": [
    {
     "name": "stdout",
     "output_type": "stream",
     "text": [
      "El área del circulo es  78.54 cm ^2\n"
     ]
    }
   ],
   "source": [
    "radio = int(input(\"Introduce el valor del radio: \"))\n",
    "uom = str(input(\"Introduce la unidad de medida: \"))\n",
    "areac = math.pi * (radio ** 2)\n",
    "print(\"El área del circulo es \", round(areac,2), uom,\"^2\")\n"
   ]
  },
  {
   "cell_type": "markdown",
   "metadata": {},
   "source": [
    "De Celsius a  Fahrenheit ºF = ºC x 1.8 + 32"
   ]
  },
  {
   "cell_type": "code",
   "execution_count": 20,
   "metadata": {},
   "outputs": [
    {
     "name": "stdout",
     "output_type": "stream",
     "text": [
      "38.7 grados celsius son 101.66 en grados fahrenheit\n"
     ]
    }
   ],
   "source": [
    "celsius = float(input(\"Introduce temperatura en grados celsius: \"))\n",
    "fahrenheit = (celsius * 1.8) + 32\n",
    "print(celsius,\"grados celsius son\",round(fahrenheit,2),\"en grados fahrenheit\")\n"
   ]
  },
  {
   "cell_type": "markdown",
   "metadata": {},
   "source": [
    "De Fahrenheit a Celsius ºC = (ºF-32) ÷ 1.8"
   ]
  },
  {
   "cell_type": "code",
   "execution_count": 21,
   "metadata": {},
   "outputs": [
    {
     "name": "stdout",
     "output_type": "stream",
     "text": [
      "101.66 grados fahrenheit son 38.7 en grados celsius\n"
     ]
    }
   ],
   "source": [
    "fahrenheit = float(input(\"Introduce temperatura en grados fahrenheit: \"))\n",
    "celsius = (fahrenheit - 32) / 1.8\n",
    "print(fahrenheit,\"grados fahrenheit son\",round(celsius,2),\"en grados celsius\")"
   ]
  }
 ],
 "metadata": {
  "kernelspec": {
   "display_name": "progra_1",
   "language": "python",
   "name": "python3"
  },
  "language_info": {
   "codemirror_mode": {
    "name": "ipython",
    "version": 3
   },
   "file_extension": ".py",
   "mimetype": "text/x-python",
   "name": "python",
   "nbconvert_exporter": "python",
   "pygments_lexer": "ipython3",
   "version": "3.8.17"
  },
  "orig_nbformat": 4
 },
 "nbformat": 4,
 "nbformat_minor": 2
}
